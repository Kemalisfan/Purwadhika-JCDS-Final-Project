{
 "cells": [
  {
   "cell_type": "markdown",
   "metadata": {
    "id": "nIRJx6aQ9SBZ"
   },
   "source": [
    "# Appendix 2"
   ]
  },
  {
   "cell_type": "markdown",
   "metadata": {
    "id": "x0A0pQSY9SBa"
   },
   "source": [
    "## Flowchart of Underwriting Process at MPL Bank"
   ]
  },
  {
   "cell_type": "markdown",
   "metadata": {
    "id": "cXWNbxgG9SBb"
   },
   "source": [
    "<a href='../Appendix Picture/Figure 01.png'>Figure 1</a> is the summary of the as-is main underwriting processes at MPL Bank. For the detailed sub-processes of the Appraisal Evaluation process with the suggestion of where the ML system will take a role in helping the process, please refer to <a href='../Appendix Picture/Figure 02.png'>Figure 2</a>. \n",
    "\n",
    "Reference : \n",
    "\n",
    "- https://www.bankrate.com/mortgages/steps-in-underwriting-process/ \n",
    "- https://www.homelight.com/blog/buyer-appraisal-lower-than-offer/ "
   ]
  }
 ],
 "metadata": {
  "colab": {
   "collapsed_sections": [],
   "name": "Appendix 2.ipynb",
   "provenance": []
  },
  "kernelspec": {
   "display_name": "Python 3",
   "language": "python",
   "name": "python3"
  },
  "language_info": {
   "codemirror_mode": {
    "name": "ipython",
    "version": 3
   },
   "file_extension": ".py",
   "mimetype": "text/x-python",
   "name": "python",
   "nbconvert_exporter": "python",
   "pygments_lexer": "ipython3",
   "version": "3.8.5"
  }
 },
 "nbformat": 4,
 "nbformat_minor": 1
}
